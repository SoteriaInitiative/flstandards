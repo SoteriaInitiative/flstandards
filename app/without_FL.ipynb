{
 "cells": [
  {
   "metadata": {},
   "cell_type": "raw",
   "source": "",
   "id": "7b141c3fea8ab76a"
  },
  {
   "metadata": {
    "ExecuteTime": {
     "end_time": "2025-04-06T17:09:00.334262Z",
     "start_time": "2025-04-06T17:09:00.268088Z"
    }
   },
   "cell_type": "code",
   "source": [
    "import warnings\n",
    "\n",
    "# Deactivate all warnings\n",
    "warnings.filterwarnings(\"ignore\")"
   ],
   "id": "563824e396c2ea81",
   "outputs": [],
   "execution_count": 6
  },
  {
   "metadata": {
    "ExecuteTime": {
     "end_time": "2025-04-06T17:09:37.477646Z",
     "start_time": "2025-04-06T17:09:37.179539Z"
    }
   },
   "cell_type": "code",
   "source": [
    "import os\n",
    "from dotenv import load_dotenv\n",
    "import numpy as np\n",
    "import pandas as pd\n",
    "import tensorflow as tf\n",
    "from tensorflow.keras import backend as K\n",
    "from sklearn.metrics import roc_auc_score\n",
    "from sklearn.model_selection import train_test_split\n",
    "import json\n",
    "from google.cloud import storage\n",
    "from sklearn.preprocessing import OneHotEncoder\n",
    "from sklearn.compose import ColumnTransformer\n",
    "\n",
    "load_dotenv()\n",
    "\n",
    "# Custom weighted loss function\n",
    "def weighted_loss(y_true, y_pred):\n",
    "    loss = K.binary_crossentropy(y_true, y_pred)\n",
    "    fraud_weight = tf.ones_like(y_true) * 1.0  # Shape: (batch_size, 1)\n",
    "    non_fraud_weight = tf.ones_like(y_true) * 0.01\n",
    "    weight = tf.where(tf.equal(y_true, 1), fraud_weight, non_fraud_weight)\n",
    "    return K.mean(loss * weight)\n",
    "\n",
    "# Suppress TensorFlow logs\n",
    "os.environ['TF_CPP_MIN_LOG_LEVEL'] = '3'\n",
    "\n",
    "# Initialize Google Cloud Storage client\n",
    "def init_gcp_client():\n",
    "    client = storage.Client()\n",
    "    return client\n",
    "\n",
    "gcp_client = init_gcp_client()\n",
    "\n",
    "# Load transactions from Google Cloud Storage\n",
    "def load_transactions(bucket_name, file_name):\n",
    "    try:\n",
    "        bucket = gcp_client.get_bucket(bucket_name)\n",
    "        blob = bucket.blob(file_name)\n",
    "        transactions = json.loads(blob.download_as_text())\n",
    "        return transactions\n",
    "    except Exception as e:\n",
    "        return []"
   ],
   "id": "cb6a37a23da5d20e",
   "outputs": [],
   "execution_count": 8
  },
  {
   "metadata": {
    "ExecuteTime": {
     "end_time": "2025-04-06T17:09:42.139916Z",
     "start_time": "2025-04-06T17:09:42.129140Z"
    }
   },
   "cell_type": "code",
   "source": [
    "# Define model\n",
    "def create_model(input_dim):\n",
    "    inputs = tf.keras.layers.Input(shape=(input_dim,))\n",
    "    hidden = tf.keras.layers.Dense(32, activation=\"relu\")(inputs)\n",
    "    dropout = tf.keras.layers.Dropout(0.3)(hidden)\n",
    "    output = tf.keras.layers.Dense(1, activation=\"sigmoid\")(dropout)\n",
    "    model = tf.keras.Model(inputs=inputs, outputs=output)\n",
    "    model.compile(optimizer=\"adam\", loss=weighted_loss, metrics=[\"AUC\"])\n",
    "    return model"
   ],
   "id": "f56f26cd2d236454",
   "outputs": [],
   "execution_count": 9
  },
  {
   "metadata": {
    "ExecuteTime": {
     "end_time": "2025-04-06T17:09:47.990424Z",
     "start_time": "2025-04-06T17:09:47.983141Z"
    }
   },
   "cell_type": "code",
   "source": [
    "GCS_BUCKET_NAME = os.getenv(\"GCS_BUCKET_NAME\", \"federated-learning\")\n",
    "NUM_ROUNDS = 1"
   ],
   "id": "a899853e79e7b44e",
   "outputs": [],
   "execution_count": 10
  },
  {
   "metadata": {
    "ExecuteTime": {
     "end_time": "2025-04-06T17:09:52.027644Z",
     "start_time": "2025-04-06T17:09:50.547208Z"
    }
   },
   "cell_type": "code",
   "source": [
    "# Load data\n",
    "TRANSACTIONS_FILE = f\"Bank_{BANK_ID}_transactions.json\"\n",
    "transactions = load_transactions(GCS_BUCKET_NAME, TRANSACTIONS_FILE)\n",
    "#transactions[:1]"
   ],
   "id": "83c7e2b1d1ec6c05",
   "outputs": [],
   "execution_count": 11
  },
  {
   "metadata": {
    "ExecuteTime": {
     "end_time": "2025-04-06T17:09:54.870196Z",
     "start_time": "2025-04-06T17:09:54.840321Z"
    }
   },
   "cell_type": "code",
   "source": [
    "def evaluate_model(bank_id):\n",
    "    TRANSACTIONS_FILE = f\"Bank_{bank_id}_transactions.json\"\n",
    "    transactions = load_transactions(GCS_BUCKET_NAME, TRANSACTIONS_FILE)\n",
    "    df = pd.json_normalize(transactions, sep=\"_\")\n",
    "\n",
    "    # Define possible party type-role combinations\n",
    "    POSSIBLE_PARTY_COMBINATIONS = [\n",
    "        (\"individual\", \"UBO\"),\n",
    "        (\"entity\", \"UBO\"),\n",
    "    ]\n",
    "    party_columns = [f\"party_{ptype}_{prole}\" for ptype, prole in POSSIBLE_PARTY_COMBINATIONS]\n",
    "\n",
    "    # Function to count occurrences based on predefined values\n",
    "    def count_party_combinations(parties):\n",
    "        counts = {col: 0 for col in party_columns}\n",
    "        for party in parties:\n",
    "            col_name = f\"party_{party.get('party_type')}_{party.get('party_role')}\"\n",
    "            if col_name in counts:\n",
    "                counts[col_name] += 1\n",
    "        return counts\n",
    "\n",
    "    # Apply function to transactions\n",
    "    party_data = [count_party_combinations(tx.get(\"Transaction\", {}).get(\"account\", {}).get(\"parties\", [])) for tx in transactions]\n",
    "    df_parties = pd.DataFrame(party_data).reindex(columns=party_columns, fill_value=0)\n",
    "    df = pd.concat([df, df_parties], axis=1)\n",
    "\n",
    "    # Define predefined transaction beneficiary values\n",
    "    POSSIBLE_BENEFICIARIES = [f\"P{i}\" for i in range(1, 11)]\n",
    "\n",
    "    # One-hot encode categorical features\n",
    "    encoder = OneHotEncoder(categories=[POSSIBLE_BENEFICIARIES], drop=\"first\", sparse_output=False, handle_unknown=\"ignore\")\n",
    "\n",
    "    # Prepare features and labels\n",
    "    X = df[[\n",
    "        \"Transaction_transaction_type\",\n",
    "        \"Transaction_currency_amount\",\n",
    "        \"Transaction_account_country_code\",\n",
    "        \"Transaction_transaction_beneficiary_country_code\",\n",
    "        \"Transaction_transaction_beneficiary\"\n",
    "    ] + party_columns]  # Include new party count features\n",
    "\n",
    "    y = df[\"Transaction_local_label\"]\n",
    "\n",
    "    # Create a ColumnTransformer to apply OHE to categorical features\n",
    "    preprocessor = ColumnTransformer(\n",
    "        transformers=[\n",
    "            (\"transaction_type\", encoder, [\"Transaction_transaction_type\"]),\n",
    "            (\"account_country\", encoder, [\"Transaction_account_country_code\"]),\n",
    "            (\"beneficiary_country\", encoder, [\"Transaction_transaction_beneficiary_country_code\"]),\n",
    "            (\"beneficiary\", encoder, [\"Transaction_transaction_beneficiary\"]),\n",
    "            (\"currency_amount\", \"passthrough\", [\"Transaction_currency_amount\"]),\n",
    "            (\"party_counts\", \"passthrough\", party_columns),\n",
    "        ]\n",
    "    )\n",
    "\n",
    "    # Apply the transformer\n",
    "    X_processed = preprocessor.fit_transform(X)\n",
    "\n",
    "\n",
    "    # Split the data\n",
    "    X_train, X_test, y_train_local, y_test_local, train_indices, test_indices = train_test_split(\n",
    "        X_processed, y, df.index, test_size=0.2, random_state=42, stratify=y\n",
    "    )\n",
    "\n",
    "    # Extract global labels for the test set\n",
    "    y_test_global = df.loc[test_indices, \"Transaction_global_label\"].values\n",
    "\n",
    "    # Scale currency amount (assuming min-max scaling)\n",
    "    X_train[:, -len(party_columns)-1] = (X_train[:, -len(party_columns)-1] - 10) / (50000 - 10)\n",
    "    X_test[:, -len(party_columns)-1] = (X_test[:, -len(party_columns)-1] - 10) / (50000 - 10)\n",
    "\n",
    "    # Convert to NumPy arrays\n",
    "    X_train = X_train.astype(np.float32)\n",
    "    X_test = X_test.astype(np.float32)\n",
    "    y_train, y_test_local = y_train_local.values, y_test_local.values\n",
    "\n",
    "    model = create_model(X_train.shape[1])\n",
    "    history = model.fit(X_train, y_train, epochs=30*NUM_ROUNDS, batch_size=64, verbose=0)\n",
    "    y_train_pred = model.predict(X_train)\n",
    "    y_test_pred = model.predict(X_test)\n",
    "    local_train_auc = roc_auc_score(y_train, y_train_pred)\n",
    "    local_auc = roc_auc_score(y_test_local, y_test_pred)\n",
    "    global_auc = roc_auc_score(y_test_global, y_test_pred)\n",
    "    print(f\"\"\"\n",
    "            AUC of detecting 1 scenario on the training set: {local_train_auc:0.4f},\n",
    "            AUC of detecting 1 scenario on the test set: {local_auc:0.4f},\n",
    "            AUC of detecting 4 scenari on the test set : {global_auc:0.4f}\n",
    "    \"\"\")"
   ],
   "id": "988941c0985ed59f",
   "outputs": [],
   "execution_count": 12
  },
  {
   "metadata": {
    "ExecuteTime": {
     "end_time": "2025-04-06T17:10:08.632172Z",
     "start_time": "2025-04-06T17:10:04.214785Z"
    }
   },
   "cell_type": "code",
   "source": "evaluate_model(1)",
   "id": "5321280f5b5e22e7",
   "outputs": [
    {
     "name": "stdout",
     "output_type": "stream",
     "text": [
      "\u001B[1m125/125\u001B[0m \u001B[32m━━━━━━━━━━━━━━━━━━━━\u001B[0m\u001B[37m\u001B[0m \u001B[1m0s\u001B[0m 385us/step\n",
      "\u001B[1m32/32\u001B[0m \u001B[32m━━━━━━━━━━━━━━━━━━━━\u001B[0m\u001B[37m\u001B[0m \u001B[1m0s\u001B[0m 723us/step\n",
      "\n",
      "            AUC of detecting 1 scenario on the training set: 0.7415,\n",
      "            AUC of detecting 1 scenario on the test set: 0.7128,\n",
      "            AUC of detecting 4 scenari on the test set : 0.5553\n",
      "    \n"
     ]
    }
   ],
   "execution_count": 13
  },
  {
   "metadata": {
    "ExecuteTime": {
     "end_time": "2025-04-06T17:10:11.954281Z",
     "start_time": "2025-04-06T17:10:08.703484Z"
    }
   },
   "cell_type": "code",
   "source": "evaluate_model(2)",
   "id": "60465b65cae5a87e",
   "outputs": [
    {
     "name": "stdout",
     "output_type": "stream",
     "text": [
      "\u001B[1m125/125\u001B[0m \u001B[32m━━━━━━━━━━━━━━━━━━━━\u001B[0m\u001B[37m\u001B[0m \u001B[1m0s\u001B[0m 314us/step\n",
      "\u001B[1m32/32\u001B[0m \u001B[32m━━━━━━━━━━━━━━━━━━━━\u001B[0m\u001B[37m\u001B[0m \u001B[1m0s\u001B[0m 644us/step\n",
      "\n",
      "            AUC of detecting 1 scenario on the training set: 0.5372,\n",
      "            AUC of detecting 1 scenario on the test set: 0.5218,\n",
      "            AUC of detecting 4 scenari on the test set : 0.5444\n",
      "    \n"
     ]
    }
   ],
   "execution_count": 14
  },
  {
   "metadata": {
    "ExecuteTime": {
     "end_time": "2025-04-06T17:10:15.388835Z",
     "start_time": "2025-04-06T17:10:12.014937Z"
    }
   },
   "cell_type": "code",
   "source": "evaluate_model(3)",
   "id": "899ecf650f5b4444",
   "outputs": [
    {
     "name": "stdout",
     "output_type": "stream",
     "text": [
      "\u001B[1m125/125\u001B[0m \u001B[32m━━━━━━━━━━━━━━━━━━━━\u001B[0m\u001B[37m\u001B[0m \u001B[1m0s\u001B[0m 471us/step\n",
      "\u001B[1m32/32\u001B[0m \u001B[32m━━━━━━━━━━━━━━━━━━━━\u001B[0m\u001B[37m\u001B[0m \u001B[1m0s\u001B[0m 649us/step\n",
      "\n",
      "            AUC of detecting 1 scenario on the training set: 0.9996,\n",
      "            AUC of detecting 1 scenario on the test set: 0.9998,\n",
      "            AUC of detecting 4 scenari on the test set : 0.6601\n",
      "    \n"
     ]
    }
   ],
   "execution_count": 15
  },
  {
   "metadata": {
    "ExecuteTime": {
     "end_time": "2025-04-06T17:10:18.177944Z",
     "start_time": "2025-04-06T17:10:15.448381Z"
    }
   },
   "cell_type": "code",
   "source": "evaluate_model(4)",
   "id": "63f85f3c69b2b306",
   "outputs": [
    {
     "name": "stdout",
     "output_type": "stream",
     "text": [
      "\u001B[1m125/125\u001B[0m \u001B[32m━━━━━━━━━━━━━━━━━━━━\u001B[0m\u001B[37m\u001B[0m \u001B[1m0s\u001B[0m 375us/step\n",
      "\u001B[1m32/32\u001B[0m \u001B[32m━━━━━━━━━━━━━━━━━━━━\u001B[0m\u001B[37m\u001B[0m \u001B[1m0s\u001B[0m 1ms/step \n",
      "\n",
      "            AUC of detecting 1 scenario on the training set: 1.0000,\n",
      "            AUC of detecting 1 scenario on the test set: 1.0000,\n",
      "            AUC of detecting 4 scenari on the test set : 0.7055\n",
      "    \n"
     ]
    }
   ],
   "execution_count": 16
  },
  {
   "metadata": {},
   "cell_type": "markdown",
   "source": "## Results from Federated Learning after 1 epoch:",
   "id": "c2f6f0a8d33b0b47"
  },
  {
   "metadata": {},
   "cell_type": "markdown",
   "source": [
    "### Training Results:\n",
    "- (4000, {'local_train_auc': 0.5619037130440171})\n",
    "- (4000, {'local_train_auc': 0.9998835463760644})\n",
    "- (4000, {'local_train_auc': 0.7388128731215261})\n",
    "- (4000, {'local_train_auc': 1.0})\n",
    "\n",
    "**Aggregated Local Training AUC**: 0.8251500331354019"
   ],
   "id": "dae64ce6496e5c24"
  },
  {
   "metadata": {},
   "cell_type": "markdown",
   "source": [
    "### Testing Results:\n",
    "- (1000, {'global_auc': 0.8739103111555133, 'local_auc': 0.9191768029882196})\n",
    "- (1000, {'global_auc': 0.8814535884198805, 'local_auc': 0.4971177981437161})\n",
    "- (1000, {'global_auc': 0.8660674121200437, 'local_auc': 0.8510115388920523})\n",
    "- (1000, {'global_auc': 0.8820727895957254, 'local_auc': 0.4941996480082418})\n",
    "\n",
    "**Aggregated local test AUC**: 0.6904\n",
    "**Aggregated global test AUC**: 0.8759"
   ],
   "id": "5027aa169ef5cf9"
  },
  {
   "metadata": {},
   "cell_type": "markdown",
   "source": "## Summary",
   "id": "4ac588661baee31f"
  },
  {
   "metadata": {},
   "cell_type": "markdown",
   "source": [
    "| Bank - Detection Focus        | Local Model for 1 Scenario | Local Model for 4 Scenari | Federated Learning for 1 Scenario | Federated Learning for 4 Scenari |\n",
    "|------------------------------|-------------------------------|----------------------------------------|--------------------------------------|-------|\n",
    "| Bank 1 - Large Cash Deposits  | AUC = 0.7072                  | AUC = 0.5735                           | AUC = 0.9191                            | AUC = **0.8739** |\n",
    "| Bank 2 – High-Risk Transactions| AUC = 0.5229                  | AUC = 0.5738                           | AUC = 0.4971                            | AUC = **0.8814** |\n",
    "| Bank 3 - Many UBOs            | AUC = 0.9999                  | AUC = 0.6689                           | AUC =  0.8510                            | AUC = **0.8660** |\n",
    "| Bank 4 - Watchlist Entities   | AUC = 1.0000                  | AUC = 0.6977                           | AUC = 0.4941                            | AUC = **0.8820** |\n"
   ],
   "id": "9841d2ac9ecda847"
  },
  {
   "metadata": {},
   "cell_type": "code",
   "outputs": [],
   "execution_count": null,
   "source": "",
   "id": "9285921deeacc223"
  }
 ],
 "metadata": {
  "kernelspec": {
   "display_name": "Python 3 (ipykernel)",
   "language": "python",
   "name": "python3"
  },
  "language_info": {
   "codemirror_mode": {
    "name": "ipython",
    "version": 3
   },
   "file_extension": ".py",
   "mimetype": "text/x-python",
   "name": "python",
   "nbconvert_exporter": "python",
   "pygments_lexer": "ipython3",
   "version": "3.11.2"
  }
 },
 "nbformat": 4,
 "nbformat_minor": 5
}
