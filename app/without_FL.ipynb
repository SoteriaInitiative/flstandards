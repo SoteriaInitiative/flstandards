{
 "cells": [
  {
   "cell_type": "code",
   "id": "53ad52de-9e31-49de-8450-23483163ca77",
   "metadata": {
    "ExecuteTime": {
     "end_time": "2025-04-04T15:25:25.778716Z",
     "start_time": "2025-04-04T15:24:31.397600Z"
    }
   },
   "source": [
    "import os\n",
    "from dotenv import load_dotenv\n",
    "import numpy as np\n",
    "import pandas as pd\n",
    "import tensorflow as tf\n",
    "from tensorflow.keras import backend as K\n",
    "from sklearn.metrics import roc_auc_score\n",
    "from sklearn.model_selection import train_test_split\n",
    "import json\n",
    "import boto3\n",
    "from sklearn.preprocessing import OneHotEncoder\n",
    "from sklearn.compose import ColumnTransformer\n",
    "\n",
    "load_dotenv()\n",
    "\n",
    "# Custom weighted loss function\n",
    "def weighted_loss(y_true, y_pred):\n",
    "    loss = K.binary_crossentropy(y_true, y_pred)  \n",
    "    fraud_weight = tf.ones_like(y_true) * 1.0  # Shape: (batch_size, 1)\n",
    "    non_fraud_weight = tf.ones_like(y_true) * 0.01    \n",
    "    weight = tf.where(tf.equal(y_true, 1), fraud_weight, non_fraud_weight)\n",
    "    return K.mean(loss * weight)\n",
    "\n",
    "# Suppress TensorFlow logs\n",
    "os.environ['TF_CPP_MIN_LOG_LEVEL'] = '3'\n",
    "\n",
    "# Environment variables\n",
    "BANK_ID = os.getenv(\"BANK_ID\", \"1\")\n",
    "SERVER_ADDRESS = os.getenv(\"SERVER_ADDRESS\", \"server:8080\")\n",
    "SPACES_ACCESS_KEY = os.getenv(\"SPACES_ACCESS_KEY\")\n",
    "SPACES_SECRET_KEY = os.getenv(\"SPACES_SECRET_KEY\")\n",
    "SPACE_NAME = os.getenv(\"SPACE_NAME\", \"federated-learning\")\n",
    "TRANSACTIONS_FILE = f\"Bank_{BANK_ID}_transactions.json\"\n",
    "\n",
    "# Initialize DigitalOcean Spaces client\n",
    "def init_s3_client():\n",
    "    s3 = boto3.client(\n",
    "        's3',\n",
    "        endpoint_url='https://fra1.digitaloceanspaces.com',\n",
    "        aws_access_key_id=SPACES_ACCESS_KEY,\n",
    "        aws_secret_access_key=SPACES_SECRET_KEY,\n",
    "    )\n",
    "    return s3\n",
    "\n",
    "s3_client = init_s3_client()\n",
    "\n",
    "# Load transactions from DigitalOcean Spaces\n",
    "def load_transactions(space_name, file_name):\n",
    "    try:\n",
    "        obj = s3_client.get_object(Bucket=space_name, Key=file_name)\n",
    "        transactions = json.loads(obj[\"Body\"].read().decode(\"utf-8\"))\n",
    "        return transactions\n",
    "    except Exception as e:\n",
    "        return []"
   ],
   "outputs": [],
   "execution_count": 1
  },
  {
   "cell_type": "code",
   "id": "de174052-2bc7-4340-a5ca-6d8251b1b6e0",
   "metadata": {
    "ExecuteTime": {
     "end_time": "2025-04-04T15:27:50.246224Z",
     "start_time": "2025-04-04T15:27:49.285952Z"
    }
   },
   "source": [
    "# Load data\n",
    "transactions = load_transactions(SPACE_NAME, TRANSACTIONS_FILE)\n",
    "\n",
    "transactions[:1]"
   ],
   "outputs": [
    {
     "data": {
      "text/plain": [
       "[]"
      ]
     },
     "execution_count": 2,
     "metadata": {},
     "output_type": "execute_result"
    }
   ],
   "execution_count": 2
  },
  {
   "cell_type": "code",
   "id": "ed3d0b60-dd55-4f3c-8941-1eac23e00ad6",
   "metadata": {
    "ExecuteTime": {
     "end_time": "2025-04-04T15:28:09.474349Z",
     "start_time": "2025-04-04T15:28:02.261713Z"
    }
   },
   "source": [
    "df = pd.json_normalize(transactions, sep=\"_\")\n",
    "\n",
    "# Define possible party type-role combinations\n",
    "POSSIBLE_PARTY_COMBINATIONS = [\n",
    "    (\"individual\", \"UBO\"),\n",
    "    (\"entity\", \"UBO\"),\n",
    "]\n",
    "party_columns = [f\"party_{ptype}_{prole}\" for ptype, prole in POSSIBLE_PARTY_COMBINATIONS]\n",
    "\n",
    "# Function to count occurrences based on predefined values\n",
    "def count_party_combinations(parties):\n",
    "    counts = {col: 0 for col in party_columns}\n",
    "    for party in parties:\n",
    "        col_name = f\"party_{party.get('party_type')}_{party.get('party_role')}\"\n",
    "        if col_name in counts:\n",
    "            counts[col_name] += 1\n",
    "    return counts\n",
    "\n",
    "# Apply function to transactions\n",
    "party_data = [count_party_combinations(tx.get(\"Transaction\", {}).get(\"account\", {}).get(\"parties\", [])) for tx in transactions]\n",
    "df_parties = pd.DataFrame(party_data).reindex(columns=party_columns, fill_value=0)\n",
    "df = pd.concat([df, df_parties], axis=1)\n",
    "\n",
    "# Define predefined transaction beneficiary values\n",
    "POSSIBLE_BENEFICIARIES = [f\"P{i}\" for i in range(1, 11)]\n",
    "\n",
    "# One-hot encode categorical features\n",
    "encoder = OneHotEncoder(categories=[POSSIBLE_BENEFICIARIES], drop=\"first\", sparse_output=False, handle_unknown=\"ignore\")\n",
    "\n",
    "# Prepare features and labels\n",
    "X = df[[\n",
    "    \"Transaction_transaction_type\", \n",
    "    \"Transaction_currency_amount\", \n",
    "    \"Transaction_account_country_code\", \n",
    "    \"Transaction_transaction_beneficiary_country_code\",\n",
    "    \"Transaction_transaction_beneficiary\"\n",
    "] + party_columns]  # Include new party count features\n",
    "\n",
    "y = df[\"Transaction_local_label\"]\n",
    "\n",
    "# Create a ColumnTransformer to apply OHE to categorical features\n",
    "preprocessor = ColumnTransformer(\n",
    "    transformers=[\n",
    "        (\"transaction_type\", encoder, [\"Transaction_transaction_type\"]),\n",
    "        (\"account_country\", encoder, [\"Transaction_account_country_code\"]),\n",
    "        (\"beneficiary_country\", encoder, [\"Transaction_transaction_beneficiary_country_code\"]),\n",
    "        (\"beneficiary\", encoder, [\"Transaction_transaction_beneficiary\"]),\n",
    "        (\"currency_amount\", \"passthrough\", [\"Transaction_currency_amount\"]),\n",
    "        (\"party_counts\", \"passthrough\", party_columns),\n",
    "    ]\n",
    ")\n",
    "\n",
    "# Apply the transformer\n",
    "X_processed = preprocessor.fit_transform(X)"
   ],
   "outputs": [
    {
     "ename": "KeyError",
     "evalue": "\"['Transaction_transaction_type', 'Transaction_currency_amount', 'Transaction_account_country_code', 'Transaction_transaction_beneficiary_country_code', 'Transaction_transaction_beneficiary'] not in index\"",
     "output_type": "error",
     "traceback": [
      "\u001B[31m---------------------------------------------------------------------------\u001B[39m",
      "\u001B[31mKeyError\u001B[39m                                  Traceback (most recent call last)",
      "\u001B[36mCell\u001B[39m\u001B[36m \u001B[39m\u001B[32mIn[3]\u001B[39m\u001B[32m, line 31\u001B[39m\n\u001B[32m     28\u001B[39m encoder = OneHotEncoder(categories=[POSSIBLE_BENEFICIARIES], drop=\u001B[33m\"\u001B[39m\u001B[33mfirst\u001B[39m\u001B[33m\"\u001B[39m, sparse_output=\u001B[38;5;28;01mFalse\u001B[39;00m, handle_unknown=\u001B[33m\"\u001B[39m\u001B[33mignore\u001B[39m\u001B[33m\"\u001B[39m)\n\u001B[32m     30\u001B[39m \u001B[38;5;66;03m# Prepare features and labels\u001B[39;00m\n\u001B[32m---> \u001B[39m\u001B[32m31\u001B[39m X = \u001B[43mdf\u001B[49m\u001B[43m[\u001B[49m\u001B[43m[\u001B[49m\n\u001B[32m     32\u001B[39m \u001B[43m    \u001B[49m\u001B[33;43m\"\u001B[39;49m\u001B[33;43mTransaction_transaction_type\u001B[39;49m\u001B[33;43m\"\u001B[39;49m\u001B[43m,\u001B[49m\u001B[43m \u001B[49m\n\u001B[32m     33\u001B[39m \u001B[43m    \u001B[49m\u001B[33;43m\"\u001B[39;49m\u001B[33;43mTransaction_currency_amount\u001B[39;49m\u001B[33;43m\"\u001B[39;49m\u001B[43m,\u001B[49m\u001B[43m \u001B[49m\n\u001B[32m     34\u001B[39m \u001B[43m    \u001B[49m\u001B[33;43m\"\u001B[39;49m\u001B[33;43mTransaction_account_country_code\u001B[39;49m\u001B[33;43m\"\u001B[39;49m\u001B[43m,\u001B[49m\u001B[43m \u001B[49m\n\u001B[32m     35\u001B[39m \u001B[43m    \u001B[49m\u001B[33;43m\"\u001B[39;49m\u001B[33;43mTransaction_transaction_beneficiary_country_code\u001B[39;49m\u001B[33;43m\"\u001B[39;49m\u001B[43m,\u001B[49m\n\u001B[32m     36\u001B[39m \u001B[43m    \u001B[49m\u001B[33;43m\"\u001B[39;49m\u001B[33;43mTransaction_transaction_beneficiary\u001B[39;49m\u001B[33;43m\"\u001B[39;49m\n\u001B[32m     37\u001B[39m \u001B[43m]\u001B[49m\u001B[43m \u001B[49m\u001B[43m+\u001B[49m\u001B[43m \u001B[49m\u001B[43mparty_columns\u001B[49m\u001B[43m]\u001B[49m  \u001B[38;5;66;03m# Include new party count features\u001B[39;00m\n\u001B[32m     39\u001B[39m y = df[\u001B[33m\"\u001B[39m\u001B[33mTransaction_local_label\u001B[39m\u001B[33m\"\u001B[39m]\n\u001B[32m     41\u001B[39m \u001B[38;5;66;03m# Create a ColumnTransformer to apply OHE to categorical features\u001B[39;00m\n",
      "\u001B[36mFile \u001B[39m\u001B[32m~/miniconda3/envs/flstandards/lib/python3.12/site-packages/pandas/core/frame.py:4108\u001B[39m, in \u001B[36mDataFrame.__getitem__\u001B[39m\u001B[34m(self, key)\u001B[39m\n\u001B[32m   4106\u001B[39m     \u001B[38;5;28;01mif\u001B[39;00m is_iterator(key):\n\u001B[32m   4107\u001B[39m         key = \u001B[38;5;28mlist\u001B[39m(key)\n\u001B[32m-> \u001B[39m\u001B[32m4108\u001B[39m     indexer = \u001B[38;5;28;43mself\u001B[39;49m\u001B[43m.\u001B[49m\u001B[43mcolumns\u001B[49m\u001B[43m.\u001B[49m\u001B[43m_get_indexer_strict\u001B[49m\u001B[43m(\u001B[49m\u001B[43mkey\u001B[49m\u001B[43m,\u001B[49m\u001B[43m \u001B[49m\u001B[33;43m\"\u001B[39;49m\u001B[33;43mcolumns\u001B[39;49m\u001B[33;43m\"\u001B[39;49m\u001B[43m)\u001B[49m[\u001B[32m1\u001B[39m]\n\u001B[32m   4110\u001B[39m \u001B[38;5;66;03m# take() does not accept boolean indexers\u001B[39;00m\n\u001B[32m   4111\u001B[39m \u001B[38;5;28;01mif\u001B[39;00m \u001B[38;5;28mgetattr\u001B[39m(indexer, \u001B[33m\"\u001B[39m\u001B[33mdtype\u001B[39m\u001B[33m\"\u001B[39m, \u001B[38;5;28;01mNone\u001B[39;00m) == \u001B[38;5;28mbool\u001B[39m:\n",
      "\u001B[36mFile \u001B[39m\u001B[32m~/miniconda3/envs/flstandards/lib/python3.12/site-packages/pandas/core/indexes/base.py:6200\u001B[39m, in \u001B[36mIndex._get_indexer_strict\u001B[39m\u001B[34m(self, key, axis_name)\u001B[39m\n\u001B[32m   6197\u001B[39m \u001B[38;5;28;01melse\u001B[39;00m:\n\u001B[32m   6198\u001B[39m     keyarr, indexer, new_indexer = \u001B[38;5;28mself\u001B[39m._reindex_non_unique(keyarr)\n\u001B[32m-> \u001B[39m\u001B[32m6200\u001B[39m \u001B[38;5;28;43mself\u001B[39;49m\u001B[43m.\u001B[49m\u001B[43m_raise_if_missing\u001B[49m\u001B[43m(\u001B[49m\u001B[43mkeyarr\u001B[49m\u001B[43m,\u001B[49m\u001B[43m \u001B[49m\u001B[43mindexer\u001B[49m\u001B[43m,\u001B[49m\u001B[43m \u001B[49m\u001B[43maxis_name\u001B[49m\u001B[43m)\u001B[49m\n\u001B[32m   6202\u001B[39m keyarr = \u001B[38;5;28mself\u001B[39m.take(indexer)\n\u001B[32m   6203\u001B[39m \u001B[38;5;28;01mif\u001B[39;00m \u001B[38;5;28misinstance\u001B[39m(key, Index):\n\u001B[32m   6204\u001B[39m     \u001B[38;5;66;03m# GH 42790 - Preserve name from an Index\u001B[39;00m\n",
      "\u001B[36mFile \u001B[39m\u001B[32m~/miniconda3/envs/flstandards/lib/python3.12/site-packages/pandas/core/indexes/base.py:6252\u001B[39m, in \u001B[36mIndex._raise_if_missing\u001B[39m\u001B[34m(self, key, indexer, axis_name)\u001B[39m\n\u001B[32m   6249\u001B[39m     \u001B[38;5;28;01mraise\u001B[39;00m \u001B[38;5;167;01mKeyError\u001B[39;00m(\u001B[33mf\u001B[39m\u001B[33m\"\u001B[39m\u001B[33mNone of [\u001B[39m\u001B[38;5;132;01m{\u001B[39;00mkey\u001B[38;5;132;01m}\u001B[39;00m\u001B[33m] are in the [\u001B[39m\u001B[38;5;132;01m{\u001B[39;00maxis_name\u001B[38;5;132;01m}\u001B[39;00m\u001B[33m]\u001B[39m\u001B[33m\"\u001B[39m)\n\u001B[32m   6251\u001B[39m not_found = \u001B[38;5;28mlist\u001B[39m(ensure_index(key)[missing_mask.nonzero()[\u001B[32m0\u001B[39m]].unique())\n\u001B[32m-> \u001B[39m\u001B[32m6252\u001B[39m \u001B[38;5;28;01mraise\u001B[39;00m \u001B[38;5;167;01mKeyError\u001B[39;00m(\u001B[33mf\u001B[39m\u001B[33m\"\u001B[39m\u001B[38;5;132;01m{\u001B[39;00mnot_found\u001B[38;5;132;01m}\u001B[39;00m\u001B[33m not in index\u001B[39m\u001B[33m\"\u001B[39m)\n",
      "\u001B[31mKeyError\u001B[39m: \"['Transaction_transaction_type', 'Transaction_currency_amount', 'Transaction_account_country_code', 'Transaction_transaction_beneficiary_country_code', 'Transaction_transaction_beneficiary'] not in index\""
     ]
    }
   ],
   "execution_count": 3
  },
  {
   "cell_type": "code",
   "execution_count": 4,
   "id": "1df9187c-e0e3-4d05-b9cf-a08e741bb0bd",
   "metadata": {},
   "outputs": [],
   "source": [
    "# Split the data\n",
    "X_train, X_test, y_train_local, y_test_local, train_indices, test_indices = train_test_split(\n",
    "    X_processed, y, df.index, test_size=0.2, random_state=42, stratify=y\n",
    ")\n",
    "\n",
    "# Extract global labels for the test set\n",
    "y_test_global = df.loc[test_indices, \"Transaction_global_label\"].values\n",
    "\n",
    "# Scale currency amount (assuming min-max scaling)\n",
    "X_train[:, -len(party_columns)-1] = (X_train[:, -len(party_columns)-1] - 10) / (50000 - 10)\n",
    "X_test[:, -len(party_columns)-1] = (X_test[:, -len(party_columns)-1] - 10) / (50000 - 10)\n",
    "\n",
    "# Convert to NumPy arrays\n",
    "X_train = X_train.astype(np.float32)\n",
    "X_test = X_test.astype(np.float32)\n",
    "y_train, y_test_local = y_train_local.values, y_test_local.values"
   ]
  },
  {
   "cell_type": "code",
   "execution_count": 5,
   "id": "73ab0a83-8465-4251-8d70-af337116d7d2",
   "metadata": {},
   "outputs": [
    {
     "name": "stderr",
     "output_type": "stream",
     "text": [
      "2025-03-29 15:47:55.831055: E external/local_xla/xla/stream_executor/cuda/cuda_platform.cc:51] failed call to cuInit: INTERNAL: CUDA error: Failed call to cuInit: UNKNOWN ERROR (303)\n"
     ]
    }
   ],
   "source": [
    "# Define model\n",
    "def create_model(input_dim):\n",
    "    inputs = tf.keras.layers.Input(shape=(input_dim,))\n",
    "    hidden = tf.keras.layers.Dense(32, activation=\"relu\")(inputs)\n",
    "    dropout = tf.keras.layers.Dropout(0.3)(hidden)\n",
    "    output = tf.keras.layers.Dense(1, activation=\"sigmoid\")(dropout)\n",
    "    model = tf.keras.Model(inputs=inputs, outputs=output)\n",
    "    model.compile(optimizer=\"adam\", loss=weighted_loss, metrics=[\"AUC\"])\n",
    "    return model\n",
    "\n",
    "model = create_model(X_train.shape[1])"
   ]
  },
  {
   "cell_type": "code",
   "execution_count": 6,
   "id": "673fcd73-519f-4b4a-acf8-e68120c13cd6",
   "metadata": {},
   "outputs": [],
   "source": [
    "NUM_ROUNDS = 1\n",
    "history = model.fit(X_train, y_train, epochs=30*NUM_ROUNDS, batch_size=64, verbose=0)"
   ]
  },
  {
   "cell_type": "code",
   "execution_count": 7,
   "id": "517af433-475f-4d97-b16a-0fdcaf1533cd",
   "metadata": {},
   "outputs": [
    {
     "name": "stdout",
     "output_type": "stream",
     "text": [
      "\u001B[1m125/125\u001B[0m \u001B[32m━━━━━━━━━━━━━━━━━━━━\u001B[0m\u001B[37m\u001B[0m \u001B[1m0s\u001B[0m 792us/step\n"
     ]
    }
   ],
   "source": [
    "y_train_pred = model.predict(X_train)"
   ]
  },
  {
   "cell_type": "code",
   "execution_count": 8,
   "id": "64af5c28-b517-4c3b-ba4d-84179cd65937",
   "metadata": {},
   "outputs": [
    {
     "data": {
      "text/plain": [
       "73.73710095827299"
      ]
     },
     "execution_count": 8,
     "metadata": {},
     "output_type": "execute_result"
    }
   ],
   "source": [
    "local_train_auc = roc_auc_score(y_train, y_train_pred)\n",
    "local_train_auc * 100"
   ]
  },
  {
   "cell_type": "code",
   "execution_count": 9,
   "id": "9184ef9b-0d5b-4fb5-a22c-8b06003e45c4",
   "metadata": {},
   "outputs": [
    {
     "name": "stdout",
     "output_type": "stream",
     "text": [
      "\u001B[1m32/32\u001B[0m \u001B[32m━━━━━━━━━━━━━━━━━━━━\u001B[0m\u001B[37m\u001B[0m \u001B[1m0s\u001B[0m 2ms/step \n"
     ]
    },
    {
     "data": {
      "text/plain": [
       "73.13058198587356"
      ]
     },
     "execution_count": 9,
     "metadata": {},
     "output_type": "execute_result"
    }
   ],
   "source": [
    "y_local_pred = model.predict(X_test)\n",
    "local_auc = roc_auc_score(y_test_local, y_local_pred)\n",
    "local_auc * 100"
   ]
  },
  {
   "cell_type": "code",
   "execution_count": 10,
   "id": "2dd11679-3395-428d-8609-3dae4d15e296",
   "metadata": {},
   "outputs": [
    {
     "name": "stdout",
     "output_type": "stream",
     "text": [
      "\u001B[1m32/32\u001B[0m \u001B[32m━━━━━━━━━━━━━━━━━━━━\u001B[0m\u001B[37m\u001B[0m \u001B[1m0s\u001B[0m 1ms/step \n"
     ]
    }
   ],
   "source": [
    "y_global_pred = model.predict(X_test)"
   ]
  },
  {
   "cell_type": "code",
   "execution_count": 11,
   "id": "c01cb1d9-c1f8-4398-aa04-4eea870f161e",
   "metadata": {},
   "outputs": [
    {
     "data": {
      "text/plain": [
       "52.15425360118855"
      ]
     },
     "execution_count": 11,
     "metadata": {},
     "output_type": "execute_result"
    }
   ],
   "source": [
    "global_auc = roc_auc_score(y_test_global, y_global_pred)\n",
    "global_auc * 100"
   ]
  },
  {
   "cell_type": "markdown",
   "id": "6ce20935-b4f8-4981-9197-ac511ee9db26",
   "metadata": {},
   "source": [
    "## Conclusion\n",
    "\n",
    "The AUC of detecting 1 scenario on the training set is: 0.7374.  \n",
    "The AUC of detecting 1 scenario on the test set is: 0.7313.   \n",
    "The AUC of detecting 4 scenari on the test set is: 0.5215 (Performance close to random). "
   ]
  },
  {
   "cell_type": "markdown",
   "id": "f1a4852f-baae-4bab-8b12-fbc273fee126",
   "metadata": {},
   "source": [
    "## Results from Federated Learning:"
   ]
  },
  {
   "cell_type": "markdown",
   "id": "6755aa55-7bc7-40d3-8278-92c99993de55",
   "metadata": {},
   "source": [
    "| Epoch | Train AUC (1 scenario) | Test AUC (1 scenario) | Test AUC (4 scenari) |\n",
    "|-------|---------------------|--------------------|---------------------|\n",
    "| 1     | 0.8230              | 0.7289             | 0.9083              |\n"
   ]
  },
  {
   "cell_type": "code",
   "execution_count": null,
   "id": "0f006239-e07b-4f09-8f71-ed46d66e53a5",
   "metadata": {},
   "outputs": [],
   "source": []
  }
 ],
 "metadata": {
  "kernelspec": {
   "display_name": "Python 3 (ipykernel)",
   "language": "python",
   "name": "python3"
  },
  "language_info": {
   "codemirror_mode": {
    "name": "ipython",
    "version": 3
   },
   "file_extension": ".py",
   "mimetype": "text/x-python",
   "name": "python",
   "nbconvert_exporter": "python",
   "pygments_lexer": "ipython3",
   "version": "3.11.2"
  }
 },
 "nbformat": 4,
 "nbformat_minor": 5
}
