{
 "cells": [
  {
   "cell_type": "code",
   "execution_count": 1,
   "id": "53ad52de-9e31-49de-8450-23483163ca77",
   "metadata": {},
   "outputs": [
    {
     "name": "stderr",
     "output_type": "stream",
     "text": [
      "2025-03-29 15:47:46.743337: I external/local_xla/xla/tsl/cuda/cudart_stub.cc:32] Could not find cuda drivers on your machine, GPU will not be used.\n",
      "2025-03-29 15:47:47.130653: I external/local_xla/xla/tsl/cuda/cudart_stub.cc:32] Could not find cuda drivers on your machine, GPU will not be used.\n",
      "2025-03-29 15:47:47.463778: E external/local_xla/xla/stream_executor/cuda/cuda_fft.cc:467] Unable to register cuFFT factory: Attempting to register factory for plugin cuFFT when one has already been registered\n",
      "WARNING: All log messages before absl::InitializeLog() is called are written to STDERR\n",
      "E0000 00:00:1743263267.747202    7229 cuda_dnn.cc:8579] Unable to register cuDNN factory: Attempting to register factory for plugin cuDNN when one has already been registered\n",
      "E0000 00:00:1743263267.831036    7229 cuda_blas.cc:1407] Unable to register cuBLAS factory: Attempting to register factory for plugin cuBLAS when one has already been registered\n",
      "W0000 00:00:1743263268.476988    7229 computation_placer.cc:177] computation placer already registered. Please check linkage and avoid linking the same target more than once.\n",
      "W0000 00:00:1743263268.477092    7229 computation_placer.cc:177] computation placer already registered. Please check linkage and avoid linking the same target more than once.\n",
      "W0000 00:00:1743263268.477097    7229 computation_placer.cc:177] computation placer already registered. Please check linkage and avoid linking the same target more than once.\n",
      "W0000 00:00:1743263268.477101    7229 computation_placer.cc:177] computation placer already registered. Please check linkage and avoid linking the same target more than once.\n",
      "2025-03-29 15:47:48.549871: I tensorflow/core/platform/cpu_feature_guard.cc:210] This TensorFlow binary is optimized to use available CPU instructions in performance-critical operations.\n",
      "To enable the following instructions: AVX2 FMA, in other operations, rebuild TensorFlow with the appropriate compiler flags.\n"
     ]
    }
   ],
   "source": [
    "import os\n",
    "from dotenv import load_dotenv\n",
    "import numpy as np\n",
    "import pandas as pd\n",
    "import tensorflow as tf\n",
    "from tensorflow.keras import backend as K\n",
    "from sklearn.metrics import roc_auc_score\n",
    "from sklearn.model_selection import train_test_split\n",
    "import json\n",
    "import boto3\n",
    "from sklearn.preprocessing import OneHotEncoder\n",
    "from sklearn.compose import ColumnTransformer\n",
    "\n",
    "load_dotenv()\n",
    "\n",
    "# Custom weighted loss function\n",
    "def weighted_loss(y_true, y_pred):\n",
    "    loss = K.binary_crossentropy(y_true, y_pred)  \n",
    "    fraud_weight = tf.ones_like(y_true) * 1.0  # Shape: (batch_size, 1)\n",
    "    non_fraud_weight = tf.ones_like(y_true) * 0.01    \n",
    "    weight = tf.where(tf.equal(y_true, 1), fraud_weight, non_fraud_weight)\n",
    "    return K.mean(loss * weight)\n",
    "\n",
    "# Suppress TensorFlow logs\n",
    "os.environ['TF_CPP_MIN_LOG_LEVEL'] = '3'\n",
    "\n",
    "# Environment variables\n",
    "BANK_ID = os.getenv(\"BANK_ID\", \"1\")\n",
    "SERVER_ADDRESS = os.getenv(\"SERVER_ADDRESS\", \"server:8080\")\n",
    "SPACES_ACCESS_KEY = os.getenv(\"SPACES_ACCESS_KEY\")\n",
    "SPACES_SECRET_KEY = os.getenv(\"SPACES_SECRET_KEY\")\n",
    "SPACE_NAME = os.getenv(\"SPACE_NAME\", \"federated-learning\")\n",
    "TRANSACTIONS_FILE = f\"Bank_{BANK_ID}_transactions.json\"\n",
    "\n",
    "# Initialize DigitalOcean Spaces client\n",
    "def init_s3_client():\n",
    "    s3 = boto3.client(\n",
    "        's3',\n",
    "        endpoint_url='https://fra1.digitaloceanspaces.com',\n",
    "        aws_access_key_id=SPACES_ACCESS_KEY,\n",
    "        aws_secret_access_key=SPACES_SECRET_KEY,\n",
    "    )\n",
    "    return s3\n",
    "\n",
    "s3_client = init_s3_client()\n",
    "\n",
    "# Load transactions from DigitalOcean Spaces\n",
    "def load_transactions(space_name, file_name):\n",
    "    try:\n",
    "        obj = s3_client.get_object(Bucket=space_name, Key=file_name)\n",
    "        transactions = json.loads(obj[\"Body\"].read().decode(\"utf-8\"))\n",
    "        return transactions\n",
    "    except Exception as e:\n",
    "        return []"
   ]
  },
  {
   "cell_type": "code",
   "execution_count": 2,
   "id": "de174052-2bc7-4340-a5ca-6d8251b1b6e0",
   "metadata": {},
   "outputs": [
    {
     "data": {
      "text/plain": [
       "[{'Transaction': {'transaction_id': 'T1',\n",
       "   'transaction_originator': 'Trader_1',\n",
       "   'transaction_type': '202',\n",
       "   'transaction_network': 'CME',\n",
       "   'transaction_unit_type': 'currency',\n",
       "   'transaction_units': 17093.48,\n",
       "   'currency_amount': 17093.48,\n",
       "   'currency_code': 'USD',\n",
       "   'timestamp': 1742597572356,\n",
       "   'settlement': {'settlement_id': 'S1',\n",
       "    'settlement_type': 'SWIFT',\n",
       "    'amount': 17093.48,\n",
       "    'currency_code': 'USD',\n",
       "    'status': 'failed'},\n",
       "   'exchange_rate': {'base_currency': 'USD',\n",
       "    'quote_currency': 'USD',\n",
       "    'exchange_rate': 1.0,\n",
       "    'timestamp': 1743065820356},\n",
       "   'account': {'account_id': 'A5',\n",
       "    'bic': 'BIC1',\n",
       "    'swift': 'SWIFT3',\n",
       "    'iban': 'IBAN4',\n",
       "    'account_type': 'trade',\n",
       "    'transaction_role': 'sending',\n",
       "    'balance_before': 55264.52,\n",
       "    'balance_after': 38171.03999999999,\n",
       "    'country_code': 'CN',\n",
       "    'parties': [{'party_id': 'P1',\n",
       "      'as_of_date': 1743065820356,\n",
       "      'party_type': 'entity',\n",
       "      'party_role': 'UBO'},\n",
       "     {'party_id': 'P5',\n",
       "      'as_of_date': 1743065820356,\n",
       "      'party_type': 'entity',\n",
       "      'party_role': 'UBO'},\n",
       "     {'party_id': 'P10',\n",
       "      'as_of_date': 1743065820356,\n",
       "      'party_type': 'entity',\n",
       "      'party_role': 'UBO'}]},\n",
       "   'transaction_beneficiary': 'P1',\n",
       "   'transaction_beneficiary_country_code': 'DE',\n",
       "   'local_label': 0,\n",
       "   'global_label': 0}}]"
      ]
     },
     "execution_count": 2,
     "metadata": {},
     "output_type": "execute_result"
    }
   ],
   "source": [
    "# Load data\n",
    "transactions = load_transactions(SPACE_NAME, TRANSACTIONS_FILE)\n",
    "\n",
    "transactions[:1]"
   ]
  },
  {
   "cell_type": "code",
   "execution_count": 3,
   "id": "ed3d0b60-dd55-4f3c-8941-1eac23e00ad6",
   "metadata": {},
   "outputs": [
    {
     "name": "stderr",
     "output_type": "stream",
     "text": [
      "/home/ubuntu/fedml/venv/lib/python3.11/site-packages/sklearn/preprocessing/_encoders.py:246: UserWarning: Found unknown categories in columns [0] during transform. These unknown categories will be encoded as all zeros\n",
      "  warnings.warn(\n",
      "/home/ubuntu/fedml/venv/lib/python3.11/site-packages/sklearn/preprocessing/_encoders.py:246: UserWarning: Found unknown categories in columns [0] during transform. These unknown categories will be encoded as all zeros\n",
      "  warnings.warn(\n",
      "/home/ubuntu/fedml/venv/lib/python3.11/site-packages/sklearn/preprocessing/_encoders.py:246: UserWarning: Found unknown categories in columns [0] during transform. These unknown categories will be encoded as all zeros\n",
      "  warnings.warn(\n"
     ]
    }
   ],
   "source": [
    "df = pd.json_normalize(transactions, sep=\"_\")\n",
    "\n",
    "# Define possible party type-role combinations\n",
    "POSSIBLE_PARTY_COMBINATIONS = [\n",
    "    (\"individual\", \"UBO\"),\n",
    "    (\"entity\", \"UBO\"),\n",
    "]\n",
    "party_columns = [f\"party_{ptype}_{prole}\" for ptype, prole in POSSIBLE_PARTY_COMBINATIONS]\n",
    "\n",
    "# Function to count occurrences based on predefined values\n",
    "def count_party_combinations(parties):\n",
    "    counts = {col: 0 for col in party_columns}\n",
    "    for party in parties:\n",
    "        col_name = f\"party_{party.get('party_type')}_{party.get('party_role')}\"\n",
    "        if col_name in counts:\n",
    "            counts[col_name] += 1\n",
    "    return counts\n",
    "\n",
    "# Apply function to transactions\n",
    "party_data = [count_party_combinations(tx.get(\"Transaction\", {}).get(\"account\", {}).get(\"parties\", [])) for tx in transactions]\n",
    "df_parties = pd.DataFrame(party_data).reindex(columns=party_columns, fill_value=0)\n",
    "df = pd.concat([df, df_parties], axis=1)\n",
    "\n",
    "# Define predefined transaction beneficiary values\n",
    "POSSIBLE_BENEFICIARIES = [f\"P{i}\" for i in range(1, 11)]\n",
    "\n",
    "# One-hot encode categorical features\n",
    "encoder = OneHotEncoder(categories=[POSSIBLE_BENEFICIARIES], drop=\"first\", sparse_output=False, handle_unknown=\"ignore\")\n",
    "\n",
    "# Prepare features and labels\n",
    "X = df[[\n",
    "    \"Transaction_transaction_type\", \n",
    "    \"Transaction_currency_amount\", \n",
    "    \"Transaction_account_country_code\", \n",
    "    \"Transaction_transaction_beneficiary_country_code\",\n",
    "    \"Transaction_transaction_beneficiary\"\n",
    "] + party_columns]  # Include new party count features\n",
    "\n",
    "y = df[\"Transaction_local_label\"]\n",
    "\n",
    "# Create a ColumnTransformer to apply OHE to categorical features\n",
    "preprocessor = ColumnTransformer(\n",
    "    transformers=[\n",
    "        (\"transaction_type\", encoder, [\"Transaction_transaction_type\"]),\n",
    "        (\"account_country\", encoder, [\"Transaction_account_country_code\"]),\n",
    "        (\"beneficiary_country\", encoder, [\"Transaction_transaction_beneficiary_country_code\"]),\n",
    "        (\"beneficiary\", encoder, [\"Transaction_transaction_beneficiary\"]),\n",
    "        (\"currency_amount\", \"passthrough\", [\"Transaction_currency_amount\"]),\n",
    "        (\"party_counts\", \"passthrough\", party_columns),\n",
    "    ]\n",
    ")\n",
    "\n",
    "# Apply the transformer\n",
    "X_processed = preprocessor.fit_transform(X)"
   ]
  },
  {
   "cell_type": "code",
   "execution_count": 4,
   "id": "1df9187c-e0e3-4d05-b9cf-a08e741bb0bd",
   "metadata": {},
   "outputs": [],
   "source": [
    "# Split the data\n",
    "X_train, X_test, y_train_local, y_test_local, train_indices, test_indices = train_test_split(\n",
    "    X_processed, y, df.index, test_size=0.2, random_state=42, stratify=y\n",
    ")\n",
    "\n",
    "# Extract global labels for the test set\n",
    "y_test_global = df.loc[test_indices, \"Transaction_global_label\"].values\n",
    "\n",
    "# Scale currency amount (assuming min-max scaling)\n",
    "X_train[:, -len(party_columns)-1] = (X_train[:, -len(party_columns)-1] - 10) / (50000 - 10)\n",
    "X_test[:, -len(party_columns)-1] = (X_test[:, -len(party_columns)-1] - 10) / (50000 - 10)\n",
    "\n",
    "# Convert to NumPy arrays\n",
    "X_train = X_train.astype(np.float32)\n",
    "X_test = X_test.astype(np.float32)\n",
    "y_train, y_test_local = y_train_local.values, y_test_local.values"
   ]
  },
  {
   "cell_type": "code",
   "execution_count": 5,
   "id": "73ab0a83-8465-4251-8d70-af337116d7d2",
   "metadata": {},
   "outputs": [
    {
     "name": "stderr",
     "output_type": "stream",
     "text": [
      "2025-03-29 15:47:55.831055: E external/local_xla/xla/stream_executor/cuda/cuda_platform.cc:51] failed call to cuInit: INTERNAL: CUDA error: Failed call to cuInit: UNKNOWN ERROR (303)\n"
     ]
    }
   ],
   "source": [
    "# Define model\n",
    "def create_model(input_dim):\n",
    "    inputs = tf.keras.layers.Input(shape=(input_dim,))\n",
    "    hidden = tf.keras.layers.Dense(32, activation=\"relu\")(inputs)\n",
    "    dropout = tf.keras.layers.Dropout(0.3)(hidden)\n",
    "    output = tf.keras.layers.Dense(1, activation=\"sigmoid\")(dropout)\n",
    "    model = tf.keras.Model(inputs=inputs, outputs=output)\n",
    "    model.compile(optimizer=\"adam\", loss=weighted_loss, metrics=[\"AUC\"])\n",
    "    return model\n",
    "\n",
    "model = create_model(X_train.shape[1])"
   ]
  },
  {
   "cell_type": "code",
   "execution_count": 6,
   "id": "673fcd73-519f-4b4a-acf8-e68120c13cd6",
   "metadata": {},
   "outputs": [],
   "source": [
    "NUM_ROUNDS = 1\n",
    "history = model.fit(X_train, y_train, epochs=30*NUM_ROUNDS, batch_size=64, verbose=0)"
   ]
  },
  {
   "cell_type": "code",
   "execution_count": 7,
   "id": "517af433-475f-4d97-b16a-0fdcaf1533cd",
   "metadata": {},
   "outputs": [
    {
     "name": "stdout",
     "output_type": "stream",
     "text": [
      "\u001b[1m125/125\u001b[0m \u001b[32m━━━━━━━━━━━━━━━━━━━━\u001b[0m\u001b[37m\u001b[0m \u001b[1m0s\u001b[0m 792us/step\n"
     ]
    }
   ],
   "source": [
    "y_train_pred = model.predict(X_train)"
   ]
  },
  {
   "cell_type": "code",
   "execution_count": 8,
   "id": "64af5c28-b517-4c3b-ba4d-84179cd65937",
   "metadata": {},
   "outputs": [
    {
     "data": {
      "text/plain": [
       "73.73710095827299"
      ]
     },
     "execution_count": 8,
     "metadata": {},
     "output_type": "execute_result"
    }
   ],
   "source": [
    "local_train_auc = roc_auc_score(y_train, y_train_pred)\n",
    "local_train_auc * 100"
   ]
  },
  {
   "cell_type": "code",
   "execution_count": 9,
   "id": "9184ef9b-0d5b-4fb5-a22c-8b06003e45c4",
   "metadata": {},
   "outputs": [
    {
     "name": "stdout",
     "output_type": "stream",
     "text": [
      "\u001b[1m32/32\u001b[0m \u001b[32m━━━━━━━━━━━━━━━━━━━━\u001b[0m\u001b[37m\u001b[0m \u001b[1m0s\u001b[0m 2ms/step \n"
     ]
    },
    {
     "data": {
      "text/plain": [
       "73.13058198587356"
      ]
     },
     "execution_count": 9,
     "metadata": {},
     "output_type": "execute_result"
    }
   ],
   "source": [
    "y_local_pred = model.predict(X_test)\n",
    "local_auc = roc_auc_score(y_test_local, y_local_pred)\n",
    "local_auc * 100"
   ]
  },
  {
   "cell_type": "code",
   "execution_count": 10,
   "id": "2dd11679-3395-428d-8609-3dae4d15e296",
   "metadata": {},
   "outputs": [
    {
     "name": "stdout",
     "output_type": "stream",
     "text": [
      "\u001b[1m32/32\u001b[0m \u001b[32m━━━━━━━━━━━━━━━━━━━━\u001b[0m\u001b[37m\u001b[0m \u001b[1m0s\u001b[0m 1ms/step \n"
     ]
    }
   ],
   "source": [
    "y_global_pred = model.predict(X_test)"
   ]
  },
  {
   "cell_type": "code",
   "execution_count": 11,
   "id": "c01cb1d9-c1f8-4398-aa04-4eea870f161e",
   "metadata": {},
   "outputs": [
    {
     "data": {
      "text/plain": [
       "52.15425360118855"
      ]
     },
     "execution_count": 11,
     "metadata": {},
     "output_type": "execute_result"
    }
   ],
   "source": [
    "global_auc = roc_auc_score(y_test_global, y_global_pred)\n",
    "global_auc * 100"
   ]
  },
  {
   "cell_type": "markdown",
   "id": "6ce20935-b4f8-4981-9197-ac511ee9db26",
   "metadata": {},
   "source": [
    "## Conclusion\n",
    "\n",
    "The AUC of detecting 1 scenario on the training set is: 0.7374.  \n",
    "The AUC of detecting 1 scenario on the test set is: 0.7313.   \n",
    "The AUC of detecting 4 scenari on the test set is: 0.5215 (Performance close to random). "
   ]
  },
  {
   "cell_type": "markdown",
   "id": "f1a4852f-baae-4bab-8b12-fbc273fee126",
   "metadata": {},
   "source": [
    "## Results from Federated Learning:"
   ]
  },
  {
   "cell_type": "markdown",
   "id": "6755aa55-7bc7-40d3-8278-92c99993de55",
   "metadata": {},
   "source": [
    "| Epoch | Train AUC (1 scenario) | Test AUC (1 scenario) | Test AUC (4 scenari) |\n",
    "|-------|---------------------|--------------------|---------------------|\n",
    "| 1     | 0.8230              | 0.7289             | 0.9083              |\n"
   ]
  },
  {
   "cell_type": "code",
   "execution_count": null,
   "id": "0f006239-e07b-4f09-8f71-ed46d66e53a5",
   "metadata": {},
   "outputs": [],
   "source": []
  }
 ],
 "metadata": {
  "kernelspec": {
   "display_name": "Python 3 (ipykernel)",
   "language": "python",
   "name": "python3"
  },
  "language_info": {
   "codemirror_mode": {
    "name": "ipython",
    "version": 3
   },
   "file_extension": ".py",
   "mimetype": "text/x-python",
   "name": "python",
   "nbconvert_exporter": "python",
   "pygments_lexer": "ipython3",
   "version": "3.11.2"
  }
 },
 "nbformat": 4,
 "nbformat_minor": 5
}
