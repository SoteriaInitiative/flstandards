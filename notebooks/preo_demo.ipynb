{
 "cells": [
  {
   "cell_type": "code",
   "execution_count": 1,
   "id": "2d88c7e8-ec3e-431d-a2d8-532b0a2b8f77",
   "metadata": {},
   "outputs": [],
   "source": [
    "import random\n",
    "import collections\n",
    "import numpy as np"
   ]
  },
  {
   "cell_type": "markdown",
   "id": "84beb593-3c77-4864-914d-015d8a88215a",
   "metadata": {},
   "source": [
    "## Part 1: Keys Concepts of Private Heavy Hitters via Federated Analytics"
   ]
  },
  {
   "cell_type": "markdown",
   "id": "60dd9aab-0d83-4a7e-877f-09ac56538248",
   "metadata": {},
   "source": [
    "#### a) Aggregate = Count"
   ]
  },
  {
   "cell_type": "code",
   "execution_count": 2,
   "id": "1f70f395-7f75-47ff-9caa-fe9ab3acd4d6",
   "metadata": {},
   "outputs": [],
   "source": [
    "# Simulate local data at each bank\n",
    "banks_data = [\n",
    "    ['abc12345', 'abc67890', 'xyz11111'], #bank A\n",
    "    ['abc22222', 'def33333', 'abc12345'], #bank B\n",
    "    ['xyz99999', 'abc12345', 'def00000'], #bank C\n",
    "]"
   ]
  },
  {
   "cell_type": "code",
   "execution_count": 3,
   "id": "5b92bc17-69c3-4d5f-b179-d5a162945ba7",
   "metadata": {},
   "outputs": [],
   "source": [
    "def get_prefixes(data, max_depth=3):\n",
    "    \"\"\"Extract prefixes up to depth, with counts\"\"\"\n",
    "    prefixes = collections.Counter()\n",
    "    for item in data:\n",
    "        for i in range(1, max_depth + 1):\n",
    "            prefixes[item[:i]] += 1\n",
    "    return prefixes # prefixes are Counter\n",
    "\n",
    "def add_laplace_noise(counter, epsilon=1.0, sensitivity=1):\n",
    "    \"\"\"Add DP noise to amounts\"\"\"\n",
    "    noisy = {}\n",
    "    for key, total in counter.items():\n",
    "        noise = np.random.laplace(0, sensitivity/epsilon)\n",
    "        noisy[key] = total + noise\n",
    "    return noisy # each value of the Counter in injected with noise"
   ]
  },
  {
   "cell_type": "code",
   "execution_count": 4,
   "id": "daea91ad-79d8-4846-ac5f-7369cdbd9b51",
   "metadata": {},
   "outputs": [
    {
     "data": {
      "text/plain": [
       "Counter({'a': 2, 'ab': 2, 'abc': 2, 'x': 1, 'xy': 1, 'xyz': 1})"
      ]
     },
     "execution_count": 4,
     "metadata": {},
     "output_type": "execute_result"
    }
   ],
   "source": [
    "c = get_prefixes(['abc12345', 'abc67890', 'xyz11111'])\n",
    "c"
   ]
  },
  {
   "cell_type": "code",
   "execution_count": 5,
   "id": "ab448ca3-a8c9-46f0-a858-24a058eafa34",
   "metadata": {},
   "outputs": [
    {
     "data": {
      "text/plain": [
       "{'a': 2.6267821473516184,\n",
       " 'ab': 2.75071155634096,\n",
       " 'abc': 1.5610762872801338,\n",
       " 'x': 1.0996505039137516,\n",
       " 'xy': 2.542244594417011,\n",
       " 'xyz': 0.40931378931669926}"
      ]
     },
     "execution_count": 5,
     "metadata": {},
     "output_type": "execute_result"
    }
   ],
   "source": [
    "add_laplace_noise(c)"
   ]
  },
  {
   "cell_type": "code",
   "execution_count": 6,
   "id": "f240e041-d2f0-4c94-ad44-5e7f55883eda",
   "metadata": {},
   "outputs": [],
   "source": [
    "# Simulate each bank building a noisy prefix tree\n",
    "prefix_trees = []\n",
    "for bank in banks_data:\n",
    "    prefixes = get_prefixes(bank)\n",
    "    noisy = add_laplace_noise(prefixes, epsilon=1.0)\n",
    "    prefix_trees.append(noisy)"
   ]
  },
  {
   "cell_type": "code",
   "execution_count": 7,
   "id": "a39a5921-c32f-455b-9064-d78811909246",
   "metadata": {},
   "outputs": [
    {
     "data": {
      "text/plain": [
       "[{'a': 2.3553845335234396,\n",
       "  'ab': 1.2406273256972375,\n",
       "  'abc': 5.2338535626171145,\n",
       "  'x': 1.0542845361266635,\n",
       "  'xy': 2.2602490349477216,\n",
       "  'xyz': 1.2114820642115567},\n",
       " {'a': 1.3453198075599895,\n",
       "  'ab': 1.8527008664315308,\n",
       "  'abc': 3.7739007545402714,\n",
       "  'd': 0.9443709775321596,\n",
       "  'de': 2.2712232726646455,\n",
       "  'def': -4.109613658772487},\n",
       " {'x': 0.3159566836142448,\n",
       "  'xy': 2.835198599436423,\n",
       "  'xyz': 1.6608883468910434,\n",
       "  'a': -0.02575003015550248,\n",
       "  'ab': 2.010618362086298,\n",
       "  'abc': 1.2007825580263278,\n",
       "  'd': 0.6897282371718687,\n",
       "  'de': 0.3576777109494782,\n",
       "  'def': 0.17431204196366834}]"
      ]
     },
     "execution_count": 7,
     "metadata": {},
     "output_type": "execute_result"
    }
   ],
   "source": [
    "# The noise ensures the protection of the privacy\n",
    "prefix_trees"
   ]
  },
  {
   "cell_type": "code",
   "execution_count": 8,
   "id": "7931bf06-38b6-47f3-a774-60de380101db",
   "metadata": {},
   "outputs": [],
   "source": [
    "# Aggregate (count) across all banks, \n",
    "aggregate = collections.Counter()\n",
    "for tree in prefix_trees:\n",
    "    for k, v in tree.items():\n",
    "        aggregate[k] += v"
   ]
  },
  {
   "cell_type": "code",
   "execution_count": 9,
   "id": "28d6a568-c745-488a-acba-a8b92bbbc6c7",
   "metadata": {},
   "outputs": [
    {
     "data": {
      "text/plain": [
       "Counter({'abc': 10.208536875183713,\n",
       "         'ab': 5.103946554215066,\n",
       "         'xy': 5.095447634384144,\n",
       "         'a': 3.6749543109279266,\n",
       "         'xyz': 2.8723704111026,\n",
       "         'de': 2.6289009836141237,\n",
       "         'd': 1.6340992147040283,\n",
       "         'x': 1.3702412197409082,\n",
       "         'def': -3.935301616808818})"
      ]
     },
     "execution_count": 9,
     "metadata": {},
     "output_type": "execute_result"
    }
   ],
   "source": [
    "aggregate"
   ]
  },
  {
   "cell_type": "code",
   "execution_count": 10,
   "id": "8bfb042a-3c0c-4b45-865c-0a1a48828208",
   "metadata": {},
   "outputs": [
    {
     "name": "stdout",
     "output_type": "stream",
     "text": [
      "Prefix 'abc' total noisy count: 10.21\n",
      "Prefix 'ab' total noisy count: 5.10\n",
      "Prefix 'xy' total noisy count: 5.10\n",
      "Prefix 'a' total noisy count: 3.67\n",
      "Prefix 'xyz' total noisy count: 2.87\n"
     ]
    }
   ],
   "source": [
    "# Output top global heavy hitter prefixes\n",
    "heavy_hitters = aggregate.most_common(5)\n",
    "for prefix, score in heavy_hitters:\n",
    "    print(f\"Prefix '{prefix}' total noisy count: {score:.2f}\")"
   ]
  },
  {
   "cell_type": "markdown",
   "id": "78d0b93e-e23c-4105-9372-c32e83b9d11a",
   "metadata": {},
   "source": [
    "#### b) Aggregate = transaction amounts"
   ]
  },
  {
   "cell_type": "code",
   "execution_count": 11,
   "id": "07958790-3318-467c-8ed3-f873d89e2fba",
   "metadata": {},
   "outputs": [],
   "source": [
    "# Simulate per-bank transaction logs: (account_id, amount)\n",
    "banks_data = [\n",
    "    [('abc12345', 2000), ('abc67890', 3000), ('xyz11111', 1000)],\n",
    "    [('abc12345', 1500), ('def33333', 2500), ('abc22222', 500)],\n",
    "    [('abc12345', 1800), ('xyz99999', 1200), ('def00000', 800)],\n",
    "]"
   ]
  },
  {
   "cell_type": "code",
   "execution_count": 12,
   "id": "f9a4cb84-a3b1-4993-8914-a52d5e91b7f7",
   "metadata": {},
   "outputs": [],
   "source": [
    "def sum_amounts_by_prefix(data, max_depth=3):\n",
    "    \"\"\"Sum transaction amounts per prefix\"\"\"\n",
    "    totals = collections.Counter()\n",
    "    for acc_id, amt in data:\n",
    "        for i in range(1, max_depth + 1):\n",
    "            prefix = acc_id[:i]\n",
    "            totals[prefix] += amt\n",
    "    return totals"
   ]
  },
  {
   "cell_type": "code",
   "execution_count": 21,
   "id": "50bbd4f6-e275-4df5-ab2a-8988e723e321",
   "metadata": {
    "scrolled": true
   },
   "outputs": [
    {
     "name": "stdout",
     "output_type": "stream",
     "text": [
      "Prefix 'a' total (noisy) amount: $8,800.00\n",
      "Prefix 'ab' total (noisy) amount: $8,800.00\n",
      "Prefix 'abc' total (noisy) amount: $8,800.00\n",
      "Prefix 'abc1' total (noisy) amount: $5,300.00\n",
      "Prefix 'abc12' total (noisy) amount: $5,300.00\n",
      "Prefix 'abc123' total (noisy) amount: $5,300.00\n",
      "Prefix 'abc1234' total (noisy) amount: $5,300.00\n",
      "Prefix 'abc12345' total (noisy) amount: $5,300.00\n",
      "Prefix 'd' total (noisy) amount: $3,300.00\n",
      "Prefix 'de' total (noisy) amount: $3,300.00\n"
     ]
    }
   ],
   "source": [
    "# Build noisy prefix totals per bank\n",
    "prefix_trees = []\n",
    "for bank in banks_data:\n",
    "    prefix_totals = sum_amounts_by_prefix(bank, max_depth=8) # the values in the Counter correspond to the amounts \n",
    "    noisy = add_laplace_noise(prefix_totals, epsilon=1.0, sensitivity=0)\n",
    "    prefix_trees.append(noisy)\n",
    "\n",
    "# Aggregate globally\n",
    "aggregate = collections.Counter()\n",
    "for tree in prefix_trees:\n",
    "    for k, v in tree.items():\n",
    "        aggregate[k] += v\n",
    "\n",
    "# Show top heavy hitters by total amount\n",
    "heavy_hitters = aggregate.most_common(10)\n",
    "for prefix, total in heavy_hitters:\n",
    "    print(f\"Prefix '{prefix}' total (noisy) amount: ${total:,.2f}\")"
   ]
  },
  {
   "cell_type": "markdown",
   "id": "48a4d747-7bb8-4de8-918d-2cbc9ef93cde",
   "metadata": {},
   "source": [
    "## Part 2: Application to Structuring Detection"
   ]
  },
  {
   "cell_type": "code",
   "execution_count": 22,
   "id": "3d88c86f-6365-4cbb-9828-5590e44e6a72",
   "metadata": {},
   "outputs": [],
   "source": [
    "from collections import defaultdict\n",
    "\n",
    "epsilon = 1.0\n",
    "threshold = 10000\n",
    "np.random.seed(42)"
   ]
  },
  {
   "cell_type": "code",
   "execution_count": 23,
   "id": "1b5d7fc1-6095-4e96-8609-fc4a6cc46e7b",
   "metadata": {},
   "outputs": [],
   "source": [
    "def generate_passport_id():\n",
    "    letters = ''.join(np.random.choice(list('ABCDEFGHIJKLMNOPQRSTUVWXYZ'), 2))\n",
    "    digits = str(np.random.randint(1000000, 9999999))\n",
    "    return f\"{letters}{digits}\"\n",
    "\n",
    "def get_prefixes(pid, length=6):\n",
    "    return [pid[:i] for i in range(2, length+1)]  # skip country code"
   ]
  },
  {
   "cell_type": "code",
   "execution_count": 24,
   "id": "32dcf6cd-5086-4fc3-8c0c-c0e8de23e833",
   "metadata": {},
   "outputs": [],
   "source": [
    "# Simulated data for 3 banks\n",
    "banks = []\n",
    "for _ in range(3):\n",
    "    bank_data = []\n",
    "\n",
    "    # Add 50 random passports\n",
    "    for _ in range(50):\n",
    "        pid = generate_passport_id()\n",
    "        amt = np.random.randint(100, 3000)\n",
    "        bank_data.append({'passport': pid, 'amount': amt})\n",
    "\n",
    "    # Add structuring malicious ID\n",
    "    bank_data.append({'passport': 'GB0000001', 'amount': 4000})\n",
    "    banks.append(bank_data)"
   ]
  },
  {
   "cell_type": "code",
   "execution_count": 25,
   "id": "67815748-70fe-4155-9b9a-32eb6f2eb5c5",
   "metadata": {},
   "outputs": [],
   "source": [
    "# Noisy prefix trees\n",
    "bank_prefix_sums = []\n",
    "for bank_data in banks:\n",
    "    prefix_sum = defaultdict(float)\n",
    "    for txn in bank_data:\n",
    "        for prefix in get_prefixes(txn['passport']):\n",
    "            prefix_sum[prefix] += txn['amount']\n",
    "    noisy = {k: v + np.random.laplace(0, 1000/epsilon) for k, v in prefix_sum.items()}\n",
    "    bank_prefix_sums.append(noisy)"
   ]
  },
  {
   "cell_type": "code",
   "execution_count": 26,
   "id": "9fc7dcea-60cc-45f2-8db9-e53149fa4989",
   "metadata": {},
   "outputs": [],
   "source": [
    "# Global aggregation\n",
    "global_sum = defaultdict(float)\n",
    "for bank in bank_prefix_sums:\n",
    "    for k, v in bank.items():\n",
    "        global_sum[k] += v"
   ]
  },
  {
   "cell_type": "code",
   "execution_count": 27,
   "id": "d3dc02ba-0bd9-4e63-9bee-9a2478b6737e",
   "metadata": {},
   "outputs": [
    {
     "name": "stdout",
     "output_type": "stream",
     "text": [
      "🚩 Suspicious passport prefixes (noisy sum ≥ $10,000):\n",
      " - GB: $12430.32\n",
      " - GB00: $11296.12\n",
      " - GB000: $11192.92\n",
      " - GB0000: $11879.55\n"
     ]
    }
   ],
   "source": [
    "# Flagging\n",
    "print(\"🚩 Suspicious passport prefixes (noisy sum ≥ $10,000):\")\n",
    "for prefix, amount in global_sum.items():\n",
    "    if amount >= threshold:\n",
    "        print(f\" - {prefix}: ${round(amount, 2)}\")"
   ]
  }
 ],
 "metadata": {
  "kernelspec": {
   "display_name": "Python 3 (ipykernel)",
   "language": "python",
   "name": "python3"
  },
  "language_info": {
   "codemirror_mode": {
    "name": "ipython",
    "version": 3
   },
   "file_extension": ".py",
   "mimetype": "text/x-python",
   "name": "python",
   "nbconvert_exporter": "python",
   "pygments_lexer": "ipython3",
   "version": "3.12.3"
  }
 },
 "nbformat": 4,
 "nbformat_minor": 5
}
